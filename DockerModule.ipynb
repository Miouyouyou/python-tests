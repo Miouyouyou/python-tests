{
 "cells": [
  {
   "cell_type": "code",
   "execution_count": 2,
   "id": "40fbcc39-272e-4958-9e82-72366ea77ebe",
   "metadata": {},
   "outputs": [],
   "source": [
    "import logging\n",
    "import os\n",
    "import sys\n",
    "\n",
    "from argparse import ArgumentParser, RawDescriptionHelpFormatter\n",
    "from gooey import Gooey\n",
    "from PyQt5.QtWidgets import QApplication, QWidget, QPushButton, QListWidget\n",
    "from PyQt5.QtCore import pyqtSlot"
   ]
  },
  {
   "cell_type": "code",
   "execution_count": 34,
   "id": "863b3fa0-157f-478f-bab9-e517bfc8daf1",
   "metadata": {},
   "outputs": [],
   "source": [
    "logging.basicConfig(level=logging.DEBUG)"
   ]
  },
  {
   "cell_type": "code",
   "execution_count": 35,
   "id": "f6e2b1b5-e421-4e16-9349-9479f48bdfeb",
   "metadata": {},
   "outputs": [],
   "source": [
    "def list_dirs(from_dir=\".\", containing_files=[]) -> list:\n",
    "    entries = os.scandir(from_dir)\n",
    "    dirs = []\n",
    "    for entry in entries:\n",
    "        if entry.is_dir():\n",
    "            directory = entry.name\n",
    "            all_files_present = True\n",
    "            for file_to_search in containing_files:\n",
    "                checked_file_path = os.path.join(os.path.join(from_dir,directory), file_to_search)\n",
    "                file_exist = os.path.exists(checked_file_path)\n",
    "                logging.debug(f'Does {checked_file_path} exist ? {file_exist}')\n",
    "                all_files_present &= file_exist\n",
    "            \n",
    "            if all_files_present:\n",
    "                dirs.append(directory)\n",
    "    return dirs"
   ]
  },
  {
   "cell_type": "code",
   "execution_count": 36,
   "id": "6bcc8aed-d495-40e4-b130-68141cc870ad",
   "metadata": {},
   "outputs": [
    {
     "data": {
      "text/plain": [
       "['haproxy', 'pihole']"
      ]
     },
     "execution_count": 36,
     "metadata": {},
     "output_type": "execute_result"
    }
   ],
   "source": [
    "list_dirs(\"softwares\", [\"docker-compose.yml\"])"
   ]
  },
  {
   "cell_type": "code",
   "execution_count": 71,
   "id": "b51aff20-4cc7-4c40-84c7-fa62e3865822",
   "metadata": {},
   "outputs": [
    {
     "name": "stdout",
     "output_type": "stream",
     "text": [
      "usage: ipykernel_launcher.py [-h] [--install IMAGE [IMAGE ...]]\n",
      "\n",
      "Armbian docker installation module\n",
      "\n",
      "options:\n",
      "  -h, --help            show this help message and exit\n",
      "  --install IMAGE [IMAGE ...]\n",
      "                        Add docker installations\n",
      "\n",
      "IMAGES :\n",
      "\thaproxy\n",
      "\tpihole\n"
     ]
    },
    {
     "data": {
      "text/plain": [
       "['haproxy']"
      ]
     },
     "execution_count": 71,
     "metadata": {},
     "output_type": "execute_result"
    }
   ],
   "source": [
    "available_dockers = list_dirs('softwares', ['docker-compose.yml'])\n",
    "images_list = \"\\n\\t\" + \"\\n\\t\".join(available_dockers)\n",
    "parser = ArgumentParser(description='Armbian docker installation module', formatter_class=RawDescriptionHelpFormatter, epilog='IMAGES :' + images_list)\n",
    "parser.add_argument('--install', nargs='+', metavar='IMAGE', choices=available_dockers, help='Add docker installations')\n",
    "parser.print_help()\n",
    "\n",
    "args = parser.parse_args(\"--install haproxy\".split())\n",
    "args.install"
   ]
  },
  {
   "cell_type": "code",
   "execution_count": 1,
   "id": "16561c7d-77d1-4550-8a7e-a09e4aa26ff4",
   "metadata": {},
   "outputs": [
    {
     "ename": "NameError",
     "evalue": "name 'QWidget' is not defined",
     "output_type": "error",
     "traceback": [
      "\u001b[0;31m---------------------------------------------------------------------------\u001b[0m",
      "\u001b[0;31mNameError\u001b[0m                                 Traceback (most recent call last)",
      "Input \u001b[0;32mIn [1]\u001b[0m, in \u001b[0;36m<cell line: 1>\u001b[0;34m()\u001b[0m\n\u001b[0;32m----> 1\u001b[0m \u001b[38;5;28;01mclass\u001b[39;00m \u001b[38;5;21;01mApp\u001b[39;00m(\u001b[43mQWidget\u001b[49m):\n\u001b[1;32m      3\u001b[0m     \u001b[38;5;28;01mdef\u001b[39;00m \u001b[38;5;21m__init__\u001b[39m(\u001b[38;5;28mself\u001b[39m):\n\u001b[1;32m      4\u001b[0m         \u001b[38;5;28msuper\u001b[39m()\u001b[38;5;241m.\u001b[39m\u001b[38;5;21m__init__\u001b[39m()\n",
      "\u001b[0;31mNameError\u001b[0m: name 'QWidget' is not defined"
     ]
    }
   ],
   "source": [
    "class App(QWidget):\n",
    "\n",
    "    def __init__(self):\n",
    "        super().__init__()\n",
    "        self.title = 'PyQt5 button - pythonspot.com'\n",
    "        self.left = 10\n",
    "        self.top = 10\n",
    "        self.width = 320\n",
    "        self.height = 200\n",
    "        self.initUI()\n",
    "    \n",
    "    def initUI(self):\n",
    "        self.setWindowTitle(self.title)\n",
    "        self.setGeometry(self.left, self.top, self.width, self.height)\n",
    "        \n",
    "        button = QPushButton('PyQt5 button', self)\n",
    "        button.setToolTip('This is an example button')\n",
    "        button.move(100,70)\n",
    "        button.clicked.connect(self.on_click)\n",
    "        \n",
    "        self.show()\n",
    "\n",
    "    @pyqtSlot()\n",
    "    def on_click(self):\n",
    "        print('PyQt5 button click')\n",
    "\n",
    "if __name__ == '__main__':\n",
    "    app = QApplication(sys.argv)\n",
    "    ex = App()\n",
    "    sys.exit(app.exec_())"
   ]
  },
  {
   "cell_type": "code",
   "execution_count": null,
   "id": "7492e053-d033-4405-a71e-5ec8c9950006",
   "metadata": {},
   "outputs": [],
   "source": []
  }
 ],
 "metadata": {
  "kernelspec": {
   "display_name": "Python 3 (ipykernel)",
   "language": "python",
   "name": "python3"
  },
  "language_info": {
   "codemirror_mode": {
    "name": "ipython",
    "version": 3
   },
   "file_extension": ".py",
   "mimetype": "text/x-python",
   "name": "python",
   "nbconvert_exporter": "python",
   "pygments_lexer": "ipython3",
   "version": "3.10.2"
  }
 },
 "nbformat": 4,
 "nbformat_minor": 5
}
